{
 "cells": [
  {
   "cell_type": "markdown",
   "metadata": {},
   "source": [
    "# IBM Applied Data Science Project\n",
    "## The Battle of Neighborhoods"
   ]
  },
  {
   "cell_type": "markdown",
   "metadata": {},
   "source": [
    "## Introduction\n",
    "Opening a restaurant may be one of the best options to have a generous income. It is true that it may be a risky business adventure, but with the right planning and organization, a restaurant is one of the most successful businesses out there. Our lifestyle has changed and that leads society to need more and more food services. Today's jobs have us so busy that consumers have neither the time nor the inclination to prepare their own meals. They want to taste a delicious meal without worrying about cooking it, they want to eat in a healthy way without having to scrub the dishes afterwards.\n",
    "\n",
    "Some areas have unusual restrictive ordinances that can affect your business, such as a time limit per day for freight trucks. It is also necessary to analyze the volume of people who pass through the restaurant's location in the opening hours and the percentage of them who might want to enter it. Finally, it is also extremely important to anaylize the competition from nearby restaurants, especially if you're going to place it in a crowded area.\n",
    "\n",
    "In this project, we will evaluate the feasibility of opening up a restaurant in Toronto. Toronto is the provincial capital of Ontario. With a recorded population of 2,731,571 in 2016, it is the most populous city in Canada and the fourth most populous city in North America. The purpose of the project is to define which areas would be more profitable to open a restaurant."
   ]
  },
  {
   "cell_type": "markdown",
   "metadata": {},
   "source": [
    "## Data"
   ]
  },
  {
   "cell_type": "markdown",
   "metadata": {},
   "source": [
    "One of the main aspects that we have to consider for opening up a restaurant is location. In fact, location is paramount when it comes to define the success (or failure) of a food business. Several factors should be taken into account on this regard, including the following questions:\n",
    "\n",
    "1. How can localization contribute to your sales volume?\n",
    "2. Is it easy to get to your business?\n",
    "3. What restrictive ordinances are there in the area?\n",
    "4. What is the traffic density?\n",
    "5. Is there easy to park in the area?\n",
    "\n",
    "Thus, two main characteristics that the target location should have are that it would need to be closer as much as possible to the center of the city and it would have to be located  in an area with a low restaurant density. To solve this issue we will analyze the following data:\n",
    "\n",
    "1. Neighborhoods of Toronto\n",
    "2. Restaurants per neighborhood\n",
    "\n",
    "To accomplish our goal, we will use the Foursquare API and Wikipedia's list of postal codes of Canada, available at https://en.wikipedia.org/wiki/List_of_postal_codes_of_Canada:_M"
   ]
  }
 ],
 "metadata": {
  "kernelspec": {
   "display_name": "Python 3",
   "language": "python",
   "name": "python3"
  },
  "language_info": {
   "codemirror_mode": {
    "name": "ipython",
    "version": 3
   },
   "file_extension": ".py",
   "mimetype": "text/x-python",
   "name": "python",
   "nbconvert_exporter": "python",
   "pygments_lexer": "ipython3",
   "version": "3.7.3"
  }
 },
 "nbformat": 4,
 "nbformat_minor": 4
}
